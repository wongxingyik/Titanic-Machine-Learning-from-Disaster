{
 "cells": [
  {
   "cell_type": "code",
   "execution_count": 1,
   "id": "b66f2258",
   "metadata": {},
   "outputs": [],
   "source": [
    "import numpy as np\n",
    "import pandas as pd\n",
    "import matplotlib.pyplot as plt\n",
    "import seaborn as sns\n",
    "from sklearn.preprocessing import LabelEncoder\n",
    "import re\n",
    "from sklearn.model_selection import train_test_split\n",
    "from sklearn.naive_bayes import GaussianNB\n",
    "from xgboost import XGBClassifier, DMatrix\n",
    "from sklearn.metrics import accuracy_score\n",
    "from sklearn.ensemble import RandomForestClassifier, StackingClassifier\n",
    "from lightgbm import LGBMClassifier"
   ]
  },
  {
   "cell_type": "markdown",
   "id": "1b905a9d",
   "metadata": {},
   "source": [
    "## Import  "
   ]
  },
  {
   "cell_type": "code",
   "execution_count": 2,
   "id": "c5485786",
   "metadata": {},
   "outputs": [],
   "source": [
    "train = pd.read_csv('../train.csv')\n",
    "test = pd.read_csv('../test.csv')\n",
    "full = [train, test]"
   ]
  },
  {
   "cell_type": "markdown",
   "id": "2ab09482",
   "metadata": {},
   "source": [
    "## Missing Value "
   ]
  },
  {
   "cell_type": "code",
   "execution_count": 3,
   "id": "0b809e7d",
   "metadata": {},
   "outputs": [
    {
     "data": {
      "image/png": "[encoded data removed]",
      "text/plain": [
       "<Figure size 1080x360 with 2 Axes>"
      ]
     },
     "metadata": {
      "needs_background": "light"
     },
     "output_type": "display_data"
    }
   ],
   "source": [
    "null_train = train.isnull().sum()[train.isnull().sum()>0]\n",
    "null_test = test.isnull().sum()[test.isnull().sum()>0]\n",
    "plt.figure(figsize=(15,5))\n",
    "plt.subplot(1,2,1)\n",
    "sns.barplot(x=null_train.index, y=null_train)\n",
    "plt.subplot(1,2,2)\n",
    "sns.barplot(x=null_test.index, y=null_test)\n",
    "plt.show()"
   ]
  },
  {
   "cell_type": "code",
   "execution_count": 4,
   "id": "8c5748c0",
   "metadata": {},
   "outputs": [],
   "source": [
    "#Filling Age\n",
    "train['Age'] = train.Age.fillna(train.Age.mean())\n",
    "test['Age'] = test.Age.fillna(train.Age.mean())\n",
    "\n",
    "#Filling Cabin\n",
    "train['Cabin'] = train['Cabin'].fillna(0)\n",
    "test['Cabin'] = test['Cabin'].fillna(0)\n",
    "\n",
    "#Filling Embarked\n",
    "train.loc[train.Embarked.isna(),'Embarked'] = train.Embarked.mode()[0]\n",
    "# train['Embarked'] = train.Embarked.apply(lambda x : train.Embarked.mode()[0] if isinstance(x, float) else x)\n",
    "\n",
    "#Filling Fare (Test)\n",
    "test.loc[test.Fare.isna(),'Fare'] = train.Fare.mean()"
   ]
  },
  {
   "cell_type": "code",
   "execution_count": 5,
   "id": "2f0b9ad9",
   "metadata": {
    "scrolled": true
   },
   "outputs": [
    {
     "data": {
      "text/html": [
       "<div>\n",
       "<style scoped>\n",
       "    .dataframe tbody tr th:only-of-type {\n",
       "        vertical-align: middle;\n",
       "    }\n",
       "\n",
       "    .dataframe tbody tr th {\n",
       "        vertical-align: top;\n",
       "    }\n",
       "\n",
       "    .dataframe thead th {\n",
       "        text-align: right;\n",
       "    }\n",
       "</style>\n",
       "<table border=\"1\" class=\"dataframe\">\n",
       "  <thead>\n",
       "    <tr style=\"text-align: right;\">\n",
       "      <th></th>\n",
       "      <th>PassengerId</th>\n",
       "      <th>Survived</th>\n",
       "      <th>Pclass</th>\n",
       "      <th>Name</th>\n",
       "      <th>Sex</th>\n",
       "      <th>Age</th>\n",
       "      <th>SibSp</th>\n",
       "      <th>Parch</th>\n",
       "      <th>Ticket</th>\n",
       "      <th>Fare</th>\n",
       "      <th>Cabin</th>\n",
       "      <th>Embarked</th>\n",
       "    </tr>\n",
       "  </thead>\n",
       "  <tbody>\n",
       "    <tr>\n",
       "      <th>0</th>\n",
       "      <td>1</td>\n",
       "      <td>0</td>\n",
       "      <td>3</td>\n",
       "      <td>Braund, Mr. Owen Harris</td>\n",
       "      <td>male</td>\n",
       "      <td>22.0</td>\n",
       "      <td>1</td>\n",
       "      <td>0</td>\n",
       "      <td>A/5 21171</td>\n",
       "      <td>7.2500</td>\n",
       "      <td>0</td>\n",
       "      <td>S</td>\n",
       "    </tr>\n",
       "    <tr>\n",
       "      <th>1</th>\n",
       "      <td>2</td>\n",
       "      <td>1</td>\n",
       "      <td>1</td>\n",
       "      <td>Cumings, Mrs. John Bradley (Florence Briggs Th...</td>\n",
       "      <td>female</td>\n",
       "      <td>38.0</td>\n",
       "      <td>1</td>\n",
       "      <td>0</td>\n",
       "      <td>PC 17599</td>\n",
       "      <td>71.2833</td>\n",
       "      <td>C85</td>\n",
       "      <td>C</td>\n",
       "    </tr>\n",
       "    <tr>\n",
       "      <th>2</th>\n",
       "      <td>3</td>\n",
       "      <td>1</td>\n",
       "      <td>3</td>\n",
       "      <td>Heikkinen, Miss. Laina</td>\n",
       "      <td>female</td>\n",
       "      <td>26.0</td>\n",
       "      <td>0</td>\n",
       "      <td>0</td>\n",
       "      <td>STON/O2. 3101282</td>\n",
       "      <td>7.9250</td>\n",
       "      <td>0</td>\n",
       "      <td>S</td>\n",
       "    </tr>\n",
       "    <tr>\n",
       "      <th>3</th>\n",
       "      <td>4</td>\n",
       "      <td>1</td>\n",
       "      <td>1</td>\n",
       "      <td>Futrelle, Mrs. Jacques Heath (Lily May Peel)</td>\n",
       "      <td>female</td>\n",
       "      <td>35.0</td>\n",
       "      <td>1</td>\n",
       "      <td>0</td>\n",
       "      <td>113803</td>\n",
       "      <td>53.1000</td>\n",
       "      <td>C123</td>\n",
       "      <td>S</td>\n",
       "    </tr>\n",
       "    <tr>\n",
       "      <th>4</th>\n",
       "      <td>5</td>\n",
       "      <td>0</td>\n",
       "      <td>3</td>\n",
       "      <td>Allen, Mr. William Henry</td>\n",
       "      <td>male</td>\n",
       "      <td>35.0</td>\n",
       "      <td>0</td>\n",
       "      <td>0</td>\n",
       "      <td>373450</td>\n",
       "      <td>8.0500</td>\n",
       "      <td>0</td>\n",
       "      <td>S</td>\n",
       "    </tr>\n",
       "  </tbody>\n",
       "</table>\n",
       "</div>"
      ],
      "text/plain": [
       "   PassengerId  Survived  Pclass  \\\n",
       "0            1         0       3   \n",
       "1            2         1       1   \n",
       "2            3         1       3   \n",
       "3            4         1       1   \n",
       "4            5         0       3   \n",
       "\n",
       "                                                Name     Sex   Age  SibSp  \\\n",
       "0                            Braund, Mr. Owen Harris    male  22.0      1   \n",
       "1  Cumings, Mrs. John Bradley (Florence Briggs Th...  female  38.0      1   \n",
       "2                             Heikkinen, Miss. Laina  female  26.0      0   \n",
       "3       Futrelle, Mrs. Jacques Heath (Lily May Peel)  female  35.0      1   \n",
       "4                           Allen, Mr. William Henry    male  35.0      0   \n",
       "\n",
       "   Parch            Ticket     Fare Cabin Embarked  \n",
       "0      0         A/5 21171   7.2500     0        S  \n",
       "1      0          PC 17599  71.2833   C85        C  \n",
       "2      0  STON/O2. 3101282   7.9250     0        S  \n",
       "3      0            113803  53.1000  C123        S  \n",
       "4      0            373450   8.0500     0        S  "
      ]
     },
     "execution_count": 5,
     "metadata": {},
     "output_type": "execute_result"
    }
   ],
   "source": [
    "train.head()"
   ]
  },
  {
   "cell_type": "markdown",
   "id": "909a5f6a",
   "metadata": {},
   "source": [
    "## Feature Engineering \n",
    "#### 1. Simplify Sex, Embarked Feature and Cabin"
   ]
  },
  {
   "cell_type": "code",
   "execution_count": 6,
   "id": "3e06f078",
   "metadata": {},
   "outputs": [],
   "source": [
    "for i in full:\n",
    "    #Sex, Male:0, Female:1\n",
    "    i['Sex'] = i.Sex.replace(dict(male=0, female=1))\n",
    "    \n",
    "    #Embarked, S:0, C:1, Q:2\n",
    "    i['Embarked'] = i.Embarked.replace(dict(S=0, C=1, Q=2))\n",
    "    \n",
    "    #Cabin, 0:0, str:1\n",
    "    i['HasCabin'] = i.Cabin.apply(lambda x : 1 if isinstance(x, str) else 0)"
   ]
  },
  {
   "cell_type": "markdown",
   "id": "73f4c5ac",
   "metadata": {},
   "source": [
    "#### 2. Binning Age and Fare"
   ]
  },
  {
   "cell_type": "code",
   "execution_count": 7,
   "id": "2f34a64e",
   "metadata": {},
   "outputs": [],
   "source": [
    "for i in full:\n",
    "    #Age\n",
    "    i.loc[i['Age'] <= 2, 'Age'] = 0\n",
    "    i.loc[(i['Age'] > 2) & (i['Age'] <= 16), 'Age'] = 1\n",
    "    i.loc[(i['Age'] > 16) & (i['Age'] <= 60), 'Age'] = 2\n",
    "    i.loc[(i['Age'] > 60), 'Age'] = 3\n",
    " \n",
    "    #Fare\n",
    "    i.loc[(i['Fare']<= 8), 'Fare'] = 0\n",
    "    i.loc[(i['Fare'] > 8) & (i['Fare'] <= 14.5), 'Fare'] = 1\n",
    "    i.loc[(i['Fare'] > 14.5) & (i['Fare'] <= 31), 'Fare'] = 2\n",
    "    i.loc[i['Fare'] >31, 'Fare'] = 3"
   ]
  },
  {
   "cell_type": "markdown",
   "id": "a842e40b",
   "metadata": {},
   "source": [
    "#### 3. Extracting Prefix and Ticket Type"
   ]
  },
  {
   "cell_type": "code",
   "execution_count": 8,
   "id": "2cedfeba",
   "metadata": {},
   "outputs": [],
   "source": [
    "def prefix(name):\n",
    "    prefix_search = re.search(' ([A-Za-z]+)\\.', name)\n",
    "    if prefix_search:\n",
    "        return prefix_search.group(1)\n",
    "    return \"\""
   ]
  },
  {
   "cell_type": "code",
   "execution_count": 9,
   "id": "cef047ae",
   "metadata": {},
   "outputs": [],
   "source": [
    "for i in full:\n",
    "    #Extract Prefix\n",
    "    i['Prefix'] = i.Name.apply(prefix)\n",
    "    \n",
    "    i['Prefix'] = i.Prefix.replace(dict(Mr=1,\n",
    "                                        Miss=2, Mme=2, Ms=2,\n",
    "                                        Mrs=3, \n",
    "                                        Master=4,\n",
    "                                        Don=5, Rev=5, Major=5, Lady=5, Sir=5, Millie=5, Col=5, Capt=5,\n",
    "                                        Countess=5, Jonkheer=5, Dr=5, Mlle=5, Dona=5))\n",
    "#     #Extract Ticket Type\n",
    "#     i['Ticket_type'] = i['Ticket'].apply(lambda x: x[0:3])\n",
    "#     i['Ticket_type'] = i['Ticket_type'].astype('category')\n",
    "#     i['Ticket_type'] = i['Ticket_type'].cat.codes"
   ]
  },
  {
   "cell_type": "markdown",
   "id": "ef7d5b27",
   "metadata": {},
   "source": [
    "#### 4. Creating New Features"
   ]
  },
  {
   "cell_type": "code",
   "execution_count": 10,
   "id": "0386c312",
   "metadata": {},
   "outputs": [],
   "source": [
    "for i in full:\n",
    "    #Family Size\n",
    "    i['FamilySize'] = i['SibSp'] + i['Parch'] + 1\n",
    "\n",
    "    #Alone\n",
    "    i['Alone'] = 0\n",
    "    i.loc[i['FamilySize'] ==1, 'Alone'] = 1"
   ]
  },
  {
   "cell_type": "code",
   "execution_count": 11,
   "id": "310cf1aa",
   "metadata": {},
   "outputs": [],
   "source": [
    "y = train['Survived']\n",
    "df_train = train.drop(columns='Survived')\n",
    "\n",
    "drop = ['PassengerId', 'Name', 'Ticket', 'Cabin']\n",
    "df_train = df_train.drop(columns=drop)\n",
    "df_test = test.drop(columns=drop)"
   ]
  },
  {
   "cell_type": "code",
   "execution_count": 12,
   "id": "3a94c6bf",
   "metadata": {},
   "outputs": [],
   "source": [
    "# for col in ['Sex', 'HasCabin', 'Embarked']:\n",
    "#     df_train[col] = df_train[col].astype('category')\n",
    "#     df_test[col] = df_test[col].astype('category')\n",
    "\n",
    "for col in ['Age', 'Fare']:\n",
    "    df_train[col] = df_train[col].astype('int64')\n",
    "    df_test[col] = df_test[col].astype('int64')\n",
    "\n",
    "for col in ['SibSp', 'Parch']:\n",
    "    df_train = df_train.drop(columns=col)\n",
    "    df_test = df_test.drop(columns=col)"
   ]
  },
  {
   "cell_type": "code",
   "execution_count": 13,
   "id": "81843686",
   "metadata": {
    "scrolled": true
   },
   "outputs": [
    {
     "data": {
      "text/plain": [
       "Pclass        int64\n",
       "Sex           int64\n",
       "Age           int64\n",
       "Fare          int64\n",
       "Embarked      int64\n",
       "HasCabin      int64\n",
       "Prefix        int64\n",
       "FamilySize    int64\n",
       "Alone         int64\n",
       "dtype: object"
      ]
     },
     "execution_count": 13,
     "metadata": {},
     "output_type": "execute_result"
    }
   ],
   "source": [
    "df_train.dtypes"
   ]
  },
  {
   "cell_type": "code",
   "execution_count": null,
   "id": "b8091473",
   "metadata": {},
   "outputs": [],
   "source": []
  },
  {
   "cell_type": "code",
   "execution_count": 23,
   "id": "30701e54",
   "metadata": {},
   "outputs": [],
   "source": [
    "import tensorflow as tf\n",
    "import keras \n",
    "from keras.layers import Dense, Dropout, Input\n",
    "from keras.models import Sequential"
   ]
  },
  {
   "cell_type": "code",
   "execution_count": 30,
   "id": "640ddb63",
   "metadata": {},
   "outputs": [],
   "source": [
    "model = Sequential()\n",
    "model.add(Dense(units = 128, input_shape = (9,), activation = 'relu'))\n",
    "model.add(tf.keras.layers.BatchNormalization())\n",
    "model.add(Dense(units = 256, activation = 'relu', kernel_initializer = 'he_normal', use_bias = False))\n",
    "model.add(tf.keras.layers.BatchNormalization())\n",
    "model.add(Dense(units = 128, activation = 'relu',kernel_initializer = 'he_normal', use_bias = False))\n",
    "model.add(Dropout(0.1))\n",
    "model.add(Dense(units = 64, activation = 'relu',kernel_initializer = 'he_normal', use_bias = False))\n",
    "model.add(Dropout(0.1))\n",
    "model.add(Dense(units = 32, activation = 'relu'))\n",
    "model.add(Dropout(0.15))\n",
    "model.add(Dense(units = 16, activation = 'relu'))\n",
    "model.add(Dense(units = 8, activation = 'relu',kernel_initializer = 'he_normal', use_bias = False))\n",
    "model.add(Dense(units =1 , activation = 'sigmoid'))"
   ]
  },
  {
   "cell_type": "code",
   "execution_count": 31,
   "id": "7ee747cf",
   "metadata": {},
   "outputs": [
    {
     "name": "stdout",
     "output_type": "stream",
     "text": [
      "Epoch 1/50\n",
      "28/28 - 1s - loss: 0.5599 - acc: 0.7059\n",
      "Epoch 2/50\n",
      "28/28 - 0s - loss: 0.4443 - acc: 0.8204\n",
      "Epoch 3/50\n",
      "28/28 - 0s - loss: 0.4344 - acc: 0.8215\n",
      "Epoch 4/50\n",
      "28/28 - 0s - loss: 0.4231 - acc: 0.8305\n",
      "Epoch 5/50\n",
      "28/28 - 0s - loss: 0.4035 - acc: 0.8260\n",
      "Epoch 6/50\n",
      "28/28 - 0s - loss: 0.3940 - acc: 0.8339\n",
      "Epoch 7/50\n",
      "28/28 - 0s - loss: 0.3966 - acc: 0.8350\n",
      "Epoch 8/50\n",
      "28/28 - 0s - loss: 0.3799 - acc: 0.8541\n",
      "Epoch 9/50\n",
      "28/28 - 0s - loss: 0.3798 - acc: 0.8519\n",
      "Epoch 10/50\n",
      "28/28 - 0s - loss: 0.3697 - acc: 0.8507\n",
      "Epoch 11/50\n",
      "28/28 - 0s - loss: 0.3815 - acc: 0.8294\n",
      "Epoch 12/50\n",
      "28/28 - 0s - loss: 0.3748 - acc: 0.8541\n",
      "Epoch 13/50\n",
      "28/28 - 0s - loss: 0.3810 - acc: 0.8530\n",
      "Epoch 14/50\n",
      "28/28 - 0s - loss: 0.3830 - acc: 0.8496\n",
      "Epoch 15/50\n",
      "28/28 - 0s - loss: 0.3617 - acc: 0.8608\n",
      "Epoch 16/50\n",
      "28/28 - 0s - loss: 0.3633 - acc: 0.8418\n",
      "Epoch 17/50\n",
      "28/28 - 0s - loss: 0.3474 - acc: 0.8631\n",
      "Epoch 18/50\n",
      "28/28 - 0s - loss: 0.3632 - acc: 0.8519\n",
      "Epoch 19/50\n",
      "28/28 - 0s - loss: 0.3551 - acc: 0.8507\n",
      "Epoch 20/50\n",
      "28/28 - 0s - loss: 0.3709 - acc: 0.8429\n",
      "Epoch 21/50\n",
      "28/28 - 0s - loss: 0.3530 - acc: 0.8631\n",
      "Epoch 22/50\n",
      "28/28 - 0s - loss: 0.3560 - acc: 0.8575\n",
      "Epoch 23/50\n",
      "28/28 - 0s - loss: 0.3548 - acc: 0.8496\n",
      "Epoch 24/50\n",
      "28/28 - 0s - loss: 0.3593 - acc: 0.8451\n",
      "Epoch 25/50\n",
      "28/28 - 0s - loss: 0.3469 - acc: 0.8563\n",
      "Epoch 26/50\n",
      "28/28 - 0s - loss: 0.3417 - acc: 0.8653\n",
      "Epoch 27/50\n",
      "28/28 - 0s - loss: 0.3507 - acc: 0.8575\n",
      "Epoch 28/50\n",
      "28/28 - 0s - loss: 0.3267 - acc: 0.8575\n",
      "Epoch 29/50\n",
      "28/28 - 0s - loss: 0.3296 - acc: 0.8631\n",
      "Epoch 30/50\n",
      "28/28 - 0s - loss: 0.3300 - acc: 0.8608\n",
      "Epoch 31/50\n",
      "28/28 - 0s - loss: 0.3421 - acc: 0.8530\n",
      "Epoch 32/50\n",
      "28/28 - 0s - loss: 0.3241 - acc: 0.8608\n",
      "Epoch 33/50\n",
      "28/28 - 0s - loss: 0.3256 - acc: 0.8631\n",
      "Epoch 34/50\n",
      "28/28 - 0s - loss: 0.3473 - acc: 0.8620\n",
      "Epoch 35/50\n",
      "28/28 - 0s - loss: 0.3495 - acc: 0.8642\n",
      "Epoch 36/50\n",
      "28/28 - 0s - loss: 0.3334 - acc: 0.8642\n",
      "Epoch 37/50\n",
      "28/28 - 0s - loss: 0.3326 - acc: 0.8664\n",
      "Epoch 38/50\n",
      "28/28 - 0s - loss: 0.3377 - acc: 0.8597\n",
      "Epoch 39/50\n",
      "28/28 - 0s - loss: 0.3317 - acc: 0.8575\n",
      "Epoch 40/50\n",
      "28/28 - 0s - loss: 0.3202 - acc: 0.8653\n",
      "Epoch 41/50\n",
      "28/28 - 0s - loss: 0.3157 - acc: 0.8575\n",
      "Epoch 42/50\n",
      "28/28 - 0s - loss: 0.3254 - acc: 0.8575\n",
      "Epoch 43/50\n",
      "28/28 - 0s - loss: 0.3279 - acc: 0.8496\n",
      "Epoch 44/50\n",
      "28/28 - 0s - loss: 0.3288 - acc: 0.8620\n",
      "Epoch 45/50\n",
      "28/28 - 0s - loss: 0.3175 - acc: 0.8687\n",
      "Epoch 46/50\n",
      "28/28 - 0s - loss: 0.3255 - acc: 0.8664\n",
      "Epoch 47/50\n",
      "28/28 - 0s - loss: 0.3098 - acc: 0.8620\n",
      "Epoch 48/50\n",
      "28/28 - 0s - loss: 0.3219 - acc: 0.8653\n",
      "Epoch 49/50\n",
      "28/28 - 0s - loss: 0.3400 - acc: 0.8608\n",
      "Epoch 50/50\n",
      "28/28 - 0s - loss: 0.3304 - acc: 0.8620\n"
     ]
    },
    {
     "data": {
      "text/plain": [
       "<keras.callbacks.History at 0x1a215ba74c0>"
      ]
     },
     "execution_count": 31,
     "metadata": {},
     "output_type": "execute_result"
    }
   ],
   "source": [
    "model.compile(loss = tf.keras.losses.binary_crossentropy, optimizer = tf.keras.optimizers.Adam(), metrics = ['acc'])\n",
    "model.fit(df_train, y, batch_size = 32, verbose = 2, epochs = 50)"
   ]
  },
  {
   "cell_type": "code",
   "execution_count": 32,
   "id": "3fb03675",
   "metadata": {},
   "outputs": [
    {
     "name": "stdout",
     "output_type": "stream",
     "text": [
      "[0 1 0 0 1 0 1 0 1 0 0 1 1 0 1 1 0 0 1 1 0 0 1 0 1 0 1 0 1 0 0 0 0 0 1 0 0\n",
      " 0 0 1 0 1 0 1 1 0 1 0 1 1 0 0 1 1 0 0 0 0 0 1 0 0 0 1 0 1 1 0 1 1 1 0 1 1\n",
      " 1 1 0 1 0 1 1 0 1 0 0 0 1 0 1 1 1 0 1 0 0 0 1 0 1 0 1 0 0 0 1 0 0 0 0 1 0\n",
      " 1 1 1 1 0 0 0 1 1 1 0 1 0 0 0 0 1 0 0 0 1 0 0 0 0 0 0 0 0 0 1 0 0 1 0 0 0\n",
      " 1 0 1 0 1 1 0 0 1 1 1 1 1 1 1 0 0 1 1 0 1 0 0 0 0 0 0 1 1 1 1 1 0 0 1 0 1\n",
      " 0 1 0 0 0 0 1 1 0 1 0 1 1 0 0 1 1 1 1 0 0 1 0 1 0 0 0 0 1 1 0 1 0 1 0 1 0\n",
      " 1 0 1 1 0 1 0 0 0 1 0 0 1 0 0 0 1 1 1 1 0 0 0 0 1 0 1 0 1 0 1 0 0 0 0 0 1\n",
      " 0 0 0 1 1 1 0 0 0 0 0 1 0 1 1 0 1 0 0 0 0 0 1 1 1 1 0 0 0 0 0 0 1 0 1 0 0\n",
      " 1 0 0 0 0 1 0 0 1 1 0 1 0 1 0 0 0 1 1 1 1 0 0 0 0 0 1 1 1 0 1 0 0 0 1 1 0\n",
      " 1 0 1 0 0 0 0 0 0 0 1 1 0 0 1 0 1 1 0 0 0 1 1 1 0 0 1 0 1 1 0 1 0 0 1 1 1\n",
      " 0 1 0 0 1 1 0 0 0 0 0 0 0 1 0 1 0 0 0 0 0 1 1 0 0 1 0 1 0 0 1 0 1 0 1 0 0\n",
      " 0 1 1 1 1 1 0 1 0 0 1]\n"
     ]
    }
   ],
   "source": [
    "predict = model.predict(df_test)\n",
    "#since we have use sigmoid activation function in output layer\n",
    "predict = (predict > 0.5).astype(int).ravel()\n",
    "print(predict)"
   ]
  },
  {
   "cell_type": "code",
   "execution_count": 35,
   "id": "788c0998",
   "metadata": {},
   "outputs": [],
   "source": [
    "submit = pd.DataFrame({\"PassengerId\":pd.read_csv('../test.csv').PassengerId, 'Survived':predict})\n",
    "submit.to_csv(\"submission_v8.csv\",index = False)"
   ]
  },
  {
   "cell_type": "code",
   "execution_count": 34,
   "id": "7c0dd6c9",
   "metadata": {
    "scrolled": false
   },
   "outputs": [
    {
     "name": "stdout",
     "output_type": "stream",
     "text": [
      "Precision :  83.48\n",
      "Accuracy :  87.54\n",
      "Recall :  84.21\n",
      "F1 score :  83.84\n",
      "AUC :  86.91\n"
     ]
    }
   ],
   "source": [
    "from sklearn import metrics\n",
    "Y_pred_rand = (model.predict(df_train) > 0.5).astype(int)\n",
    "print('Precision : ', np.round(metrics.precision_score(y, Y_pred_rand)*100,2))\n",
    "print('Accuracy : ', np.round(metrics.accuracy_score(y, Y_pred_rand)*100,2))\n",
    "print('Recall : ', np.round(metrics.recall_score(y, Y_pred_rand)*100,2))\n",
    "print('F1 score : ', np.round(metrics.f1_score(y, Y_pred_rand)*100,2))\n",
    "print('AUC : ', np.round(metrics.roc_auc_score(y, Y_pred_rand)*100,2))"
   ]
  },
  {
   "cell_type": "code",
   "execution_count": 29,
   "id": "8e531d1a",
   "metadata": {},
   "outputs": [
    {
     "data": {
      "image/png": "[encoded data removed]",
      "text/plain": [
       "<Figure size 432x288 with 2 Axes>"
      ]
     },
     "metadata": {
      "needs_background": "light"
     },
     "output_type": "display_data"
    }
   ],
   "source": [
    "# plotting the confusion matrix in heatmap\n",
    "matrix = metrics.confusion_matrix(y, Y_pred_rand)\n",
    "sns.heatmap(matrix, annot = True,fmt = 'g')\n",
    "plt.show()"
   ]
  },
  {
   "cell_type": "code",
   "execution_count": null,
   "id": "9968c058",
   "metadata": {},
   "outputs": [],
   "source": []
  }
 ],
 "metadata": {
  "kernelspec": {
   "display_name": "Python 3 (ipykernel)",
   "language": "python",
   "name": "python3"
  },
  "language_info": {
   "codemirror_mode": {
    "name": "ipython",
    "version": 3
   },
   "file_extension": ".py",
   "mimetype": "text/x-python",
   "name": "python",
   "nbconvert_exporter": "python",
   "pygments_lexer": "ipython3",
   "version": "3.8.7"
  }
 },
 "nbformat": 4,
 "nbformat_minor": 5
}
