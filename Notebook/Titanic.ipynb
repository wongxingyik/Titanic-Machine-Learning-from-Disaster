{
 "cells": [
  {
   "cell_type": "code",
   "execution_count": 1,
   "id": "b66f2258",
   "metadata": {},
   "outputs": [],
   "source": [
    "import numpy as np\n",
    "import pandas as pd\n",
    "import matplotlib.pyplot as plt\n",
    "import seaborn as sns\n",
    "from sklearn.preprocessing import LabelEncoder, StandardScaler\n",
    "import re\n",
    "from sklearn.model_selection import train_test_split\n",
    "from sklearn.naive_bayes import GaussianNB\n",
    "from xgboost import XGBClassifier, DMatrix\n",
    "from sklearn.metrics import accuracy_score\n",
    "from sklearn.ensemble import RandomForestClassifier, StackingClassifier\n",
    "from lightgbm import LGBMClassifier\n",
    "import plotly.express as px"
   ]
  },
  {
   "cell_type": "markdown",
   "id": "1b905a9d",
   "metadata": {},
   "source": [
    "## Import  "
   ]
  },
  {
   "cell_type": "code",
   "execution_count": 2,
   "id": "c5485786",
   "metadata": {},
   "outputs": [],
   "source": [
    "train = pd.read_csv('../train.csv')\n",
    "test = pd.read_csv('../test.csv')\n",
    "full = [train, test]"
   ]
  },
  {
   "cell_type": "markdown",
   "id": "2ab09482",
   "metadata": {},
   "source": [
    "## Missing Value "
   ]
  },
  {
   "cell_type": "code",
   "execution_count": 3,
   "id": "0b809e7d",
   "metadata": {},
   "outputs": [
    {
     "data": {
      "image/png": "[encoded data removed]",
      "text/plain": [
       "<Figure size 1080x360 with 2 Axes>"
      ]
     },
     "metadata": {
      "needs_background": "light"
     },
     "output_type": "display_data"
    }
   ],
   "source": [
    "null_train = train.isnull().sum()[train.isnull().sum()>0]\n",
    "null_test = test.isnull().sum()[test.isnull().sum()>0]\n",
    "plt.figure(figsize=(15,5))\n",
    "plt.subplot(1,2,1)\n",
    "sns.barplot(x=null_train.index, y=null_train)\n",
    "plt.subplot(1,2,2)\n",
    "sns.barplot(x=null_test.index, y=null_test)\n",
    "plt.show()"
   ]
  },
  {
   "cell_type": "code",
   "execution_count": 4,
   "id": "8c5748c0",
   "metadata": {},
   "outputs": [],
   "source": [
    "#Filling Age\n",
    "train['Age'] = train.Age.fillna(train.Age.mean())\n",
    "test['Age'] = test.Age.fillna(test.Age.mean())\n",
    "\n",
    "#Filling Cabin\n",
    "train['Cabin'] = train['Cabin'].fillna(0)\n",
    "test['Cabin'] = test['Cabin'].fillna(0)\n",
    "\n",
    "#Filling Embarked\n",
    "train.loc[train.Embarked.isna(),'Embarked'] = train.Embarked.mode()[0]\n",
    "\n",
    "#Filling Fare (Test)\n",
    "test.loc[test.Fare.isna(),'Fare'] = train.Fare.mean()"
   ]
  },
  {
   "cell_type": "code",
   "execution_count": 5,
   "id": "2f0b9ad9",
   "metadata": {},
   "outputs": [
    {
     "data": {
      "text/html": [
       "<div>\n",
       "<style scoped>\n",
       "    .dataframe tbody tr th:only-of-type {\n",
       "        vertical-align: middle;\n",
       "    }\n",
       "\n",
       "    .dataframe tbody tr th {\n",
       "        vertical-align: top;\n",
       "    }\n",
       "\n",
       "    .dataframe thead th {\n",
       "        text-align: right;\n",
       "    }\n",
       "</style>\n",
       "<table border=\"1\" class=\"dataframe\">\n",
       "  <thead>\n",
       "    <tr style=\"text-align: right;\">\n",
       "      <th></th>\n",
       "      <th>PassengerId</th>\n",
       "      <th>Survived</th>\n",
       "      <th>Pclass</th>\n",
       "      <th>Name</th>\n",
       "      <th>Sex</th>\n",
       "      <th>Age</th>\n",
       "      <th>SibSp</th>\n",
       "      <th>Parch</th>\n",
       "      <th>Ticket</th>\n",
       "      <th>Fare</th>\n",
       "      <th>Cabin</th>\n",
       "      <th>Embarked</th>\n",
       "    </tr>\n",
       "  </thead>\n",
       "  <tbody>\n",
       "    <tr>\n",
       "      <th>0</th>\n",
       "      <td>1</td>\n",
       "      <td>0</td>\n",
       "      <td>3</td>\n",
       "      <td>Braund, Mr. Owen Harris</td>\n",
       "      <td>male</td>\n",
       "      <td>22.0</td>\n",
       "      <td>1</td>\n",
       "      <td>0</td>\n",
       "      <td>A/5 21171</td>\n",
       "      <td>7.2500</td>\n",
       "      <td>0</td>\n",
       "      <td>S</td>\n",
       "    </tr>\n",
       "    <tr>\n",
       "      <th>1</th>\n",
       "      <td>2</td>\n",
       "      <td>1</td>\n",
       "      <td>1</td>\n",
       "      <td>Cumings, Mrs. John Bradley (Florence Briggs Th...</td>\n",
       "      <td>female</td>\n",
       "      <td>38.0</td>\n",
       "      <td>1</td>\n",
       "      <td>0</td>\n",
       "      <td>PC 17599</td>\n",
       "      <td>71.2833</td>\n",
       "      <td>C85</td>\n",
       "      <td>C</td>\n",
       "    </tr>\n",
       "    <tr>\n",
       "      <th>2</th>\n",
       "      <td>3</td>\n",
       "      <td>1</td>\n",
       "      <td>3</td>\n",
       "      <td>Heikkinen, Miss. Laina</td>\n",
       "      <td>female</td>\n",
       "      <td>26.0</td>\n",
       "      <td>0</td>\n",
       "      <td>0</td>\n",
       "      <td>STON/O2. 3101282</td>\n",
       "      <td>7.9250</td>\n",
       "      <td>0</td>\n",
       "      <td>S</td>\n",
       "    </tr>\n",
       "    <tr>\n",
       "      <th>3</th>\n",
       "      <td>4</td>\n",
       "      <td>1</td>\n",
       "      <td>1</td>\n",
       "      <td>Futrelle, Mrs. Jacques Heath (Lily May Peel)</td>\n",
       "      <td>female</td>\n",
       "      <td>35.0</td>\n",
       "      <td>1</td>\n",
       "      <td>0</td>\n",
       "      <td>113803</td>\n",
       "      <td>53.1000</td>\n",
       "      <td>C123</td>\n",
       "      <td>S</td>\n",
       "    </tr>\n",
       "    <tr>\n",
       "      <th>4</th>\n",
       "      <td>5</td>\n",
       "      <td>0</td>\n",
       "      <td>3</td>\n",
       "      <td>Allen, Mr. William Henry</td>\n",
       "      <td>male</td>\n",
       "      <td>35.0</td>\n",
       "      <td>0</td>\n",
       "      <td>0</td>\n",
       "      <td>373450</td>\n",
       "      <td>8.0500</td>\n",
       "      <td>0</td>\n",
       "      <td>S</td>\n",
       "    </tr>\n",
       "  </tbody>\n",
       "</table>\n",
       "</div>"
      ],
      "text/plain": [
       "   PassengerId  Survived  Pclass  \\\n",
       "0            1         0       3   \n",
       "1            2         1       1   \n",
       "2            3         1       3   \n",
       "3            4         1       1   \n",
       "4            5         0       3   \n",
       "\n",
       "                                                Name     Sex   Age  SibSp  \\\n",
       "0                            Braund, Mr. Owen Harris    male  22.0      1   \n",
       "1  Cumings, Mrs. John Bradley (Florence Briggs Th...  female  38.0      1   \n",
       "2                             Heikkinen, Miss. Laina  female  26.0      0   \n",
       "3       Futrelle, Mrs. Jacques Heath (Lily May Peel)  female  35.0      1   \n",
       "4                           Allen, Mr. William Henry    male  35.0      0   \n",
       "\n",
       "   Parch            Ticket     Fare Cabin Embarked  \n",
       "0      0         A/5 21171   7.2500     0        S  \n",
       "1      0          PC 17599  71.2833   C85        C  \n",
       "2      0  STON/O2. 3101282   7.9250     0        S  \n",
       "3      0            113803  53.1000  C123        S  \n",
       "4      0            373450   8.0500     0        S  "
      ]
     },
     "execution_count": 5,
     "metadata": {},
     "output_type": "execute_result"
    }
   ],
   "source": [
    "train.head()"
   ]
  },
  {
   "cell_type": "code",
   "execution_count": 6,
   "id": "3616ec2b",
   "metadata": {
    "scrolled": true
   },
   "outputs": [
    {
     "data": {
      "image/png": "[encoded data removed]",
      "text/plain": [
       "<Figure size 1080x360 with 1 Axes>"
      ]
     },
     "metadata": {
      "needs_background": "light"
     },
     "output_type": "display_data"
    }
   ],
   "source": [
    "plt.figure(figsize=(15,5))\n",
    "sns.histplot(data=train, x='Age', hue='Survived', y='Pclass')\n",
    "plt.show()"
   ]
  },
  {
   "cell_type": "code",
   "execution_count": 7,
   "id": "769e5cfb",
   "metadata": {},
   "outputs": [
    {
     "data": {
      "image/png": "[encoded data removed]",
      "text/plain": [
       "<Figure size 576x576 with 2 Axes>"
      ]
     },
     "metadata": {
      "needs_background": "light"
     },
     "output_type": "display_data"
    }
   ],
   "source": [
    "# train = train.drop(columns='PassengerId')\n",
    "corr = train.corr()\n",
    "plt.figure(figsize=(8,8))\n",
    "sns.heatmap(corr, annot=True)\n",
    "plt.show()"
   ]
  },
  {
   "cell_type": "markdown",
   "id": "446a93ea",
   "metadata": {},
   "source": [
    "## Feature Engineering \n",
    "#### 1. Simplify Sex, Embarked Feature and Cabin"
   ]
  },
  {
   "cell_type": "code",
   "execution_count": 8,
   "id": "3e06f078",
   "metadata": {},
   "outputs": [],
   "source": [
    "for i in full:\n",
    "    #Sex, Male:0, Female:1\n",
    "    i['Sex'] = i.Sex.replace(dict(male=2, female=1))\n",
    "    \n",
    "    #Embarked, S:0, C:1, Q:2\n",
    "    i['Embarked'] = i.Embarked.replace(dict(S=1, C=2, Q=3))\n",
    "    \n",
    "    #Cabin, 0:0, str:1\n",
    "    i['HasCabin'] = i.Cabin.apply(lambda x : 1 if isinstance(x, str) else 0)"
   ]
  },
  {
   "cell_type": "markdown",
   "id": "73f4c5ac",
   "metadata": {},
   "source": [
    "### 2. Binning Age and Fare"
   ]
  },
  {
   "cell_type": "code",
   "execution_count": 9,
   "id": "2f34a64e",
   "metadata": {},
   "outputs": [],
   "source": [
    "for i in full:\n",
    "    #Age\n",
    "    i.loc[i['Age'] <= 2, 'Age'] = 0\n",
    "    i.loc[(i['Age'] > 2) & (i['Age'] <= 16), 'Age'] = 1\n",
    "    i.loc[(i['Age'] > 16) & (i['Age'] <= 60), 'Age'] = 2\n",
    "    i.loc[(i['Age'] > 60), 'Age'] = 3\n",
    " \n",
    "    #Fare\n",
    "    i.loc[(i['Fare']<= 8), 'Fare'] = 0\n",
    "    i.loc[(i['Fare'] > 8) & (i['Fare'] <= 14.5), 'Fare'] = 1\n",
    "    i.loc[(i['Fare'] > 14.5) & (i['Fare'] <= 31), 'Fare'] = 2\n",
    "    i.loc[i['Fare'] >31, 'Fare'] = 3"
   ]
  },
  {
   "cell_type": "markdown",
   "id": "a842e40b",
   "metadata": {},
   "source": [
    "#### 3. Extracting Prefix and Ticket Type"
   ]
  },
  {
   "cell_type": "code",
   "execution_count": 10,
   "id": "2cedfeba",
   "metadata": {},
   "outputs": [],
   "source": [
    "def prefix(name):\n",
    "    prefix_search = re.search(' ([A-Za-z]+)\\.', name)\n",
    "    if prefix_search:\n",
    "        return prefix_search.group(1)\n",
    "    return \"\""
   ]
  },
  {
   "cell_type": "code",
   "execution_count": 11,
   "id": "cef047ae",
   "metadata": {},
   "outputs": [],
   "source": [
    "for i in full:\n",
    "    #Extract Prefix\n",
    "    i['Prefix'] = i.Name.apply(prefix)\n",
    "    \n",
    "    i['Prefix'] = i.Prefix.replace(dict(Mr=1, \n",
    "                                        Mrs=2, \n",
    "                                        Miss=3, Mme=3, Ms=3,\n",
    "                                        Master=4,\n",
    "                                        Don=5, Rev=5, Major=5, Lady=5, Sir=5, Millie=5, Col=5, Capt=5,\n",
    "                                        Countess=5, Jonkheer=5, Dr=5, Mlle=5, Dona=5))\n",
    "#     #Extract Ticket Type\n",
    "#     i['Ticket_type'] = i['Ticket'].apply(lambda x: x[0:3])\n",
    "#     i['Ticket_type'] = i['Ticket_type'].astype('category')\n",
    "#     i['Ticket_type'] = i['Ticket_type'].cat.codes"
   ]
  },
  {
   "cell_type": "markdown",
   "id": "ef7d5b27",
   "metadata": {},
   "source": [
    "#### 4. Creating New Features"
   ]
  },
  {
   "cell_type": "code",
   "execution_count": 12,
   "id": "0386c312",
   "metadata": {},
   "outputs": [],
   "source": [
    "for i in full:\n",
    "    #Family Size\n",
    "    i['FamilySize'] = i['SibSp'] + i['Parch'] + 1\n",
    "\n",
    "    #Alone\n",
    "    i['Alone'] = 0\n",
    "    i.loc[i['FamilySize'] ==1, 'Alone'] = 1"
   ]
  },
  {
   "cell_type": "code",
   "execution_count": 13,
   "id": "310cf1aa",
   "metadata": {},
   "outputs": [],
   "source": [
    "y = train['Survived']\n",
    "# df_train = train.drop(columns='Survived')\n",
    "df_train = train\n",
    "drop = ['PassengerId', 'Name', 'Ticket', 'Cabin']\n",
    "df_train = df_train.drop(columns=drop)\n",
    "df_test = test.drop(columns=drop)"
   ]
  },
  {
   "cell_type": "code",
   "execution_count": 14,
   "id": "3a94c6bf",
   "metadata": {},
   "outputs": [],
   "source": [
    "# for col in ['Sex', 'HasCabin', 'Embarked']:\n",
    "#     df_train[col] = df_train[col].astype('category')\n",
    "#     df_test[col] = df_test[col].astype('category')\n",
    "\n",
    "for col in ['Age', 'Fare']:\n",
    "    df_train[col] = df_train[col].astype('int64')\n",
    "    df_test[col] = df_test[col].astype('int64')\n",
    "    \n",
    "for col in ['SibSp', 'Parch']:\n",
    "    df_train = df_train.drop(columns=col)\n",
    "    df_test = df_test.drop(columns=col)"
   ]
  },
  {
   "cell_type": "code",
   "execution_count": 15,
   "id": "81843686",
   "metadata": {},
   "outputs": [
    {
     "data": {
      "text/plain": [
       "Survived      int64\n",
       "Pclass        int64\n",
       "Sex           int64\n",
       "Age           int64\n",
       "Fare          int64\n",
       "Embarked      int64\n",
       "HasCabin      int64\n",
       "Prefix        int64\n",
       "FamilySize    int64\n",
       "Alone         int64\n",
       "dtype: object"
      ]
     },
     "execution_count": 15,
     "metadata": {},
     "output_type": "execute_result"
    }
   ],
   "source": [
    "df_train.dtypes"
   ]
  },
  {
   "cell_type": "code",
   "execution_count": 16,
   "id": "596713fc",
   "metadata": {},
   "outputs": [
    {
     "data": {
      "text/html": [
       "<div>\n",
       "<style scoped>\n",
       "    .dataframe tbody tr th:only-of-type {\n",
       "        vertical-align: middle;\n",
       "    }\n",
       "\n",
       "    .dataframe tbody tr th {\n",
       "        vertical-align: top;\n",
       "    }\n",
       "\n",
       "    .dataframe thead th {\n",
       "        text-align: right;\n",
       "    }\n",
       "</style>\n",
       "<table border=\"1\" class=\"dataframe\">\n",
       "  <thead>\n",
       "    <tr style=\"text-align: right;\">\n",
       "      <th></th>\n",
       "      <th>Pclass</th>\n",
       "      <th>Sex</th>\n",
       "      <th>Age</th>\n",
       "      <th>Fare</th>\n",
       "      <th>Embarked</th>\n",
       "      <th>HasCabin</th>\n",
       "      <th>Prefix</th>\n",
       "      <th>FamilySize</th>\n",
       "      <th>Alone</th>\n",
       "    </tr>\n",
       "  </thead>\n",
       "  <tbody>\n",
       "    <tr>\n",
       "      <th>0</th>\n",
       "      <td>3</td>\n",
       "      <td>2</td>\n",
       "      <td>2</td>\n",
       "      <td>0</td>\n",
       "      <td>3</td>\n",
       "      <td>0</td>\n",
       "      <td>1</td>\n",
       "      <td>1</td>\n",
       "      <td>1</td>\n",
       "    </tr>\n",
       "    <tr>\n",
       "      <th>1</th>\n",
       "      <td>3</td>\n",
       "      <td>1</td>\n",
       "      <td>2</td>\n",
       "      <td>0</td>\n",
       "      <td>1</td>\n",
       "      <td>0</td>\n",
       "      <td>2</td>\n",
       "      <td>2</td>\n",
       "      <td>0</td>\n",
       "    </tr>\n",
       "    <tr>\n",
       "      <th>2</th>\n",
       "      <td>2</td>\n",
       "      <td>2</td>\n",
       "      <td>3</td>\n",
       "      <td>1</td>\n",
       "      <td>3</td>\n",
       "      <td>0</td>\n",
       "      <td>1</td>\n",
       "      <td>1</td>\n",
       "      <td>1</td>\n",
       "    </tr>\n",
       "    <tr>\n",
       "      <th>3</th>\n",
       "      <td>3</td>\n",
       "      <td>2</td>\n",
       "      <td>2</td>\n",
       "      <td>1</td>\n",
       "      <td>1</td>\n",
       "      <td>0</td>\n",
       "      <td>1</td>\n",
       "      <td>1</td>\n",
       "      <td>1</td>\n",
       "    </tr>\n",
       "    <tr>\n",
       "      <th>4</th>\n",
       "      <td>3</td>\n",
       "      <td>1</td>\n",
       "      <td>2</td>\n",
       "      <td>1</td>\n",
       "      <td>1</td>\n",
       "      <td>0</td>\n",
       "      <td>2</td>\n",
       "      <td>3</td>\n",
       "      <td>0</td>\n",
       "    </tr>\n",
       "  </tbody>\n",
       "</table>\n",
       "</div>"
      ],
      "text/plain": [
       "   Pclass  Sex  Age  Fare  Embarked  HasCabin  Prefix  FamilySize  Alone\n",
       "0       3    2    2     0         3         0       1           1      1\n",
       "1       3    1    2     0         1         0       2           2      0\n",
       "2       2    2    3     1         3         0       1           1      1\n",
       "3       3    2    2     1         1         0       1           1      1\n",
       "4       3    1    2     1         1         0       2           3      0"
      ]
     },
     "execution_count": 16,
     "metadata": {},
     "output_type": "execute_result"
    }
   ],
   "source": [
    "df_test.head()"
   ]
  },
  {
   "cell_type": "markdown",
   "id": "6135d1b5",
   "metadata": {},
   "source": [
    "## Heat Map"
   ]
  },
  {
   "cell_type": "code",
   "execution_count": 17,
   "id": "3b01b2d9",
   "metadata": {},
   "outputs": [
    {
     "data": {
      "image/png": "[encoded data removed]",
      "text/plain": [
       "<Figure size 576x576 with 2 Axes>"
      ]
     },
     "metadata": {
      "needs_background": "light"
     },
     "output_type": "display_data"
    }
   ],
   "source": [
    "plt.figure(figsize=(8,8))\n",
    "corr = df_train.corr()\n",
    "sns.heatmap(corr, annot=True, cmap='Blues')\n",
    "plt.show()"
   ]
  },
  {
   "cell_type": "code",
   "execution_count": 18,
   "id": "b0f299ed",
   "metadata": {},
   "outputs": [],
   "source": [
    "df_train = df_train.drop(columns='Survived')"
   ]
  },
  {
   "cell_type": "markdown",
   "id": "52317741",
   "metadata": {},
   "source": [
    "## Model "
   ]
  },
  {
   "cell_type": "code",
   "execution_count": 19,
   "id": "8070ce0c",
   "metadata": {
    "scrolled": true
   },
   "outputs": [
    {
     "name": "stdout",
     "output_type": "stream",
     "text": [
      "X_train shape: (712, 9)\n",
      "X_val shape: (179, 9)\n",
      "y_train shape: (712,)\n",
      "y_val shape: (179,)\n"
     ]
    }
   ],
   "source": [
    "X_train, X_val, y_train, y_val = train_test_split(df_train, y, test_size=0.2, random_state=11)\n",
    "print(f'X_train shape: {X_train.shape}')\n",
    "print(f'X_val shape: {X_val.shape}')\n",
    "print(f'y_train shape: {y_train.shape}')\n",
    "print(f'y_val shape: {y_val.shape}')"
   ]
  },
  {
   "cell_type": "code",
   "execution_count": 20,
   "id": "6d259d8d",
   "metadata": {},
   "outputs": [],
   "source": [
    "stdsc = StandardScaler()\n",
    "X_train = stdsc.fit_transform(X_train)\n",
    "X_val = stdsc.transform(X_val)"
   ]
  },
  {
   "cell_type": "code",
   "execution_count": 21,
   "id": "5b1c86d5",
   "metadata": {},
   "outputs": [],
   "source": [
    "def get_models():\n",
    "    models = list()\n",
    "    models.append(('xgb', XGBClassifier(n_estimators= 1000,\n",
    "                                      max_depth= 4,\n",
    "                                      min_child_weight= 2,\n",
    "                                      gamma=0.9,                        \n",
    "                                      subsample=0.5,\n",
    "                                      colsample_bytree=1,\n",
    "                                      objective= 'binary:logistic',\n",
    "                                      nthread= -1,\n",
    "                                      use_label_encoder=False,\n",
    "                                      eval_metric='error')))\n",
    "    \n",
    "    models.append(('rt', RandomForestClassifier(n_estimators=1000,\n",
    "                                    criterion='entropy',\n",
    "                                    max_depth=9,\n",
    "                                    max_samples=0.7,\n",
    "                                    )))\n",
    "    \n",
    "    models.append(('lightgbm', LGBMClassifier(n_estimators=1000,\n",
    "                                             learning_rate=0.03,\n",
    "                                             objective='binary',\n",
    "                                             num_leaves=10,\n",
    "                                             subsample = 0.7,\n",
    "                        #                      subsample_freq=9,\n",
    "                                             reg_lambda=1,\n",
    "                                             reg_alpha=0.3,\n",
    "                                            )))\n",
    "    models.append(('bayes', GaussianNB()))\n",
    "    return models"
   ]
  },
  {
   "cell_type": "code",
   "execution_count": 22,
   "id": "27bc252c",
   "metadata": {},
   "outputs": [],
   "source": [
    "def fit_ensemble(models):\n",
    "    meta_x = list()\n",
    "    for name, model in models:\n",
    "        model.fit(X_train, y_train)\n",
    "        yhat = model.predict(X_val)\n",
    "        yhat = yhat.reshape(len(yhat),1)\n",
    "        meta_x.append(yhat)\n",
    "          \n",
    "    meta_x = np.hstack(meta_x)\n",
    "    blender = StackingClassifier(estimators=models,\n",
    "                                 final_estimator=models[0][1])\n",
    "    \n",
    "    blender.fit(meta_x, y_val)\n",
    "    \n",
    "    return models, blender"
   ]
  },
  {
   "cell_type": "code",
   "execution_count": 23,
   "id": "263bc420",
   "metadata": {},
   "outputs": [],
   "source": [
    "def predict_ensemble(blender, models, X, coeff):\n",
    "    meta_x = list()\n",
    "    for name, model in models:\n",
    "        yhat = model.predict(X)\n",
    "        yhat = yhat.reshape(len(yhat),1)\n",
    "        meta_x.append(yhat)\n",
    "    blend_predict = blender.predict(np.hstack(meta_x))\n",
    "    blend_predict = blend_predict.reshape(len(blend_predict),1)\n",
    "    \n",
    "    meta_x.append(blend_predict)\n",
    "    meta_x = np.hstack(meta_x)\n",
    "    prediction = meta_x * coeff\n",
    "    prediction = np.sum(prediction, axis=1)\n",
    "#     print(prediction)\n",
    "    prediction[prediction>=0.5] = 1\n",
    "    prediction[prediction<0.5] = 0\n",
    "    return prediction"
   ]
  },
  {
   "cell_type": "code",
   "execution_count": 24,
   "id": "408a4c47",
   "metadata": {},
   "outputs": [],
   "source": [
    "models = get_models()"
   ]
  },
  {
   "cell_type": "code",
   "execution_count": 25,
   "id": "54f0e37a",
   "metadata": {},
   "outputs": [],
   "source": [
    "models, blender = fit_ensemble(models)"
   ]
  },
  {
   "cell_type": "code",
   "execution_count": 26,
   "id": "5cc20e60",
   "metadata": {},
   "outputs": [
    {
     "name": "stdout",
     "output_type": "stream",
     "text": [
      "Model: xgb\n",
      "Training Accuracy: 0.8637640449438202\n",
      "Validation Accuracy: 0.9050279329608939\n",
      "---------------------------------------\n",
      "Model: rt\n",
      "Training Accuracy: 0.875\n",
      "Validation Accuracy: 0.8715083798882681\n",
      "---------------------------------------\n",
      "Model: lightgbm\n",
      "Training Accuracy: 0.851123595505618\n",
      "Validation Accuracy: 0.8715083798882681\n",
      "---------------------------------------\n",
      "Model: bayes\n",
      "Training Accuracy: 0.7780898876404494\n",
      "Validation Accuracy: 0.8100558659217877\n",
      "---------------------------------------\n"
     ]
    }
   ],
   "source": [
    "for name, model in models:\n",
    "    print(f'Model: {name}')\n",
    "    print(f'Training Accuracy: {accuracy_score(model.predict(X_train), y_train)}')\n",
    "    print(f'Validation Accuracy: {accuracy_score(model.predict(X_val), y_val)}')\n",
    "    print('---------------------------------------')"
   ]
  },
  {
   "cell_type": "code",
   "execution_count": 27,
   "id": "a6c91574",
   "metadata": {},
   "outputs": [
    {
     "name": "stdout",
     "output_type": "stream",
     "text": [
      "Model: Stack\n",
      "Training Accuracy: 0.8595505617977528\n",
      "Validation Accuracy: 0.9050279329608939\n",
      "---------------------------------------\n"
     ]
    }
   ],
   "source": [
    "coeff = np.array([0.2, 0.2, 0.2, 0.2, 0.1])\n",
    "prediction = predict_ensemble(blender, models, X_train, coeff)\n",
    "\n",
    "print(f'Model: Stack')\n",
    "print(f'Training Accuracy: {accuracy_score(predict_ensemble(blender, models, X_train, coeff), y_train)}')\n",
    "print(f'Validation Accuracy: {accuracy_score(predict_ensemble(blender, models, X_val, coeff), y_val)}')\n",
    "print('---------------------------------------')"
   ]
  },
  {
   "cell_type": "markdown",
   "id": "e91f8018",
   "metadata": {},
   "source": [
    "## Submission"
   ]
  },
  {
   "cell_type": "code",
   "execution_count": 28,
   "id": "c6caa091",
   "metadata": {},
   "outputs": [],
   "source": [
    "X_test = stdsc.fit_transform(df_test)"
   ]
  },
  {
   "cell_type": "code",
   "execution_count": 29,
   "id": "5129c40a",
   "metadata": {},
   "outputs": [],
   "source": [
    "prediction = predict_ensemble(blender, models, X_test, coeff)\n",
    "prediction = prediction.reshape(len(prediction),1)"
   ]
  },
  {
   "cell_type": "code",
   "execution_count": 30,
   "id": "937e0346",
   "metadata": {},
   "outputs": [],
   "source": [
    "p = pd.DataFrame(prediction.astype('int64'), columns=['Survived'])"
   ]
  },
  {
   "cell_type": "code",
   "execution_count": 31,
   "id": "8e27821f",
   "metadata": {},
   "outputs": [],
   "source": [
    "submission = pd.concat([test.PassengerId, p], axis=1)"
   ]
  },
  {
   "cell_type": "code",
   "execution_count": 32,
   "id": "2d945ce7",
   "metadata": {},
   "outputs": [],
   "source": [
    "submission.to_csv('submission_v12.csv', index=False)"
   ]
  },
  {
   "cell_type": "code",
   "execution_count": 33,
   "id": "8d944c6e",
   "metadata": {
    "scrolled": true
   },
   "outputs": [
    {
     "data": {
      "text/html": [
       "<div>\n",
       "<style scoped>\n",
       "    .dataframe tbody tr th:only-of-type {\n",
       "        vertical-align: middle;\n",
       "    }\n",
       "\n",
       "    .dataframe tbody tr th {\n",
       "        vertical-align: top;\n",
       "    }\n",
       "\n",
       "    .dataframe thead th {\n",
       "        text-align: right;\n",
       "    }\n",
       "</style>\n",
       "<table border=\"1\" class=\"dataframe\">\n",
       "  <thead>\n",
       "    <tr style=\"text-align: right;\">\n",
       "      <th></th>\n",
       "      <th>PassengerId</th>\n",
       "      <th>Survived</th>\n",
       "    </tr>\n",
       "  </thead>\n",
       "  <tbody>\n",
       "    <tr>\n",
       "      <th>0</th>\n",
       "      <td>892</td>\n",
       "      <td>0</td>\n",
       "    </tr>\n",
       "    <tr>\n",
       "      <th>1</th>\n",
       "      <td>893</td>\n",
       "      <td>1</td>\n",
       "    </tr>\n",
       "    <tr>\n",
       "      <th>2</th>\n",
       "      <td>894</td>\n",
       "      <td>0</td>\n",
       "    </tr>\n",
       "    <tr>\n",
       "      <th>3</th>\n",
       "      <td>895</td>\n",
       "      <td>0</td>\n",
       "    </tr>\n",
       "    <tr>\n",
       "      <th>4</th>\n",
       "      <td>896</td>\n",
       "      <td>0</td>\n",
       "    </tr>\n",
       "    <tr>\n",
       "      <th>5</th>\n",
       "      <td>897</td>\n",
       "      <td>0</td>\n",
       "    </tr>\n",
       "    <tr>\n",
       "      <th>6</th>\n",
       "      <td>898</td>\n",
       "      <td>1</td>\n",
       "    </tr>\n",
       "    <tr>\n",
       "      <th>7</th>\n",
       "      <td>899</td>\n",
       "      <td>0</td>\n",
       "    </tr>\n",
       "    <tr>\n",
       "      <th>8</th>\n",
       "      <td>900</td>\n",
       "      <td>1</td>\n",
       "    </tr>\n",
       "    <tr>\n",
       "      <th>9</th>\n",
       "      <td>901</td>\n",
       "      <td>0</td>\n",
       "    </tr>\n",
       "  </tbody>\n",
       "</table>\n",
       "</div>"
      ],
      "text/plain": [
       "   PassengerId  Survived\n",
       "0          892         0\n",
       "1          893         1\n",
       "2          894         0\n",
       "3          895         0\n",
       "4          896         0\n",
       "5          897         0\n",
       "6          898         1\n",
       "7          899         0\n",
       "8          900         1\n",
       "9          901         0"
      ]
     },
     "execution_count": 33,
     "metadata": {},
     "output_type": "execute_result"
    }
   ],
   "source": [
    "pd.read_csv('submission_v12.csv').head(10)"
   ]
  },
  {
   "cell_type": "code",
   "execution_count": null,
   "id": "df2d2d33",
   "metadata": {},
   "outputs": [],
   "source": []
  }
 ],
 "metadata": {
  "kernelspec": {
   "display_name": "Python 3 (ipykernel)",
   "language": "python",
   "name": "python3"
  },
  "language_info": {
   "codemirror_mode": {
    "name": "ipython",
    "version": 3
   },
   "file_extension": ".py",
   "mimetype": "text/x-python",
   "name": "python",
   "nbconvert_exporter": "python",
   "pygments_lexer": "ipython3",
   "version": "3.9.6"
  }
 },
 "nbformat": 4,
 "nbformat_minor": 5
}
